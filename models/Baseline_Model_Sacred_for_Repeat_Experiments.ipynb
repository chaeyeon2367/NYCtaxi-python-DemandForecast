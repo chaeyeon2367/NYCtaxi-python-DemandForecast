{
  "cells": [
    {
      "cell_type": "markdown",
      "metadata": {
        "id": "HM2wooBzM4jy"
      },
      "source": [
        "## Sacred for Repeat Ecperiments\n",
        "- [Sacred Github](https://github.com/IDSIA/sacred)\n",
        "- Sacred?\n",
        "  - Sacred is a tool to help configure, organize, log and reproduce experiments developed at IDSIA\n",
        "  - Tools to help save and manage settings as we proceed with machine learning modeling\n",
        "  - Why do we need it?\n",
        "    - Frequent examples in Kaggle\n",
        "      - What's the feature  used?\n",
        "      - What parameters did you use?\n",
        "      - What's the result?\n",
        "    - We need tools to help us run various experiments quickly and automatically record them without having to record them by hand.\n",
        "  - What if we implement it with Scratch?\n",
        "    - Define Logger and store features, parameters, etc. in Logger whenever necessary.\n",
        "    - Parsing Logger to view values\n",
        "    - Sacred helps us easily use the above method as a decorator."
      ]
    },
    {
      "cell_type": "markdown",
      "metadata": {
        "id": "uSf9DuyXM4j1"
      },
      "source": [
        "- Main mechanisms of Sacred\n",
        "  - ConfigScopes : Can conveniently handle the function's local variable @ex.config decorator\n",
        "  - Config Injection: All functions have access to settings\n",
        "  - Command-line interface : Can be executed by changing parameters with a command line\n",
        "  - Observer: All information from the experiment is provided to Observer and stored. MongoDB / S3 etc. => Just save it locally in this project.\n",
        "  - Automatic seeding: Helps control randomness in an experiment"
      ]
    },
    {
      "cell_type": "code",
      "execution_count": 1,
      "metadata": {
        "colab": {
          "base_uri": "https://localhost:8080/"
        },
        "id": "14eQ2Y70M4j1",
        "outputId": "acbd2e4f-789a-472a-b17b-f18bdec115d8"
      },
      "outputs": [
        {
          "name": "stdout",
          "output_type": "stream",
          "text": [
            "Requirement already satisfied: sacred in /opt/anaconda3/envs/tensorlow/lib/python3.9/site-packages (0.8.4)\n",
            "Requirement already satisfied: packaging>=18.0 in /opt/anaconda3/envs/tensorlow/lib/python3.9/site-packages (from sacred) (21.3)\n",
            "Requirement already satisfied: munch<3.0,>=2.5 in /opt/anaconda3/envs/tensorlow/lib/python3.9/site-packages (from sacred) (2.5.0)\n",
            "Requirement already satisfied: py-cpuinfo>=4.0 in /opt/anaconda3/envs/tensorlow/lib/python3.9/site-packages (from sacred) (9.0.0)\n",
            "Requirement already satisfied: jsonpickle>=1.2 in /opt/anaconda3/envs/tensorlow/lib/python3.9/site-packages (from sacred) (3.0.1)\n",
            "Requirement already satisfied: docopt<1.0,>=0.3 in /opt/anaconda3/envs/tensorlow/lib/python3.9/site-packages (from sacred) (0.6.2)\n",
            "Requirement already satisfied: GitPython in /opt/anaconda3/envs/tensorlow/lib/python3.9/site-packages (from sacred) (3.1.29)\n",
            "Requirement already satisfied: colorama>=0.4 in /opt/anaconda3/envs/tensorlow/lib/python3.9/site-packages (from sacred) (0.4.5)\n",
            "Requirement already satisfied: wrapt<2.0,>=1.0 in /opt/anaconda3/envs/tensorlow/lib/python3.9/site-packages (from sacred) (1.14.1)\n",
            "Requirement already satisfied: six in /opt/anaconda3/envs/tensorlow/lib/python3.9/site-packages (from munch<3.0,>=2.5->sacred) (1.16.0)\n",
            "Requirement already satisfied: pyparsing!=3.0.5,>=2.0.2 in /opt/anaconda3/envs/tensorlow/lib/python3.9/site-packages (from packaging>=18.0->sacred) (3.0.9)\n",
            "Requirement already satisfied: gitdb<5,>=4.0.1 in /opt/anaconda3/envs/tensorlow/lib/python3.9/site-packages (from GitPython->sacred) (4.0.9)\n",
            "Requirement already satisfied: smmap<6,>=3.0.1 in /opt/anaconda3/envs/tensorlow/lib/python3.9/site-packages (from gitdb<5,>=4.0.1->GitPython->sacred) (5.0.0)\n"
          ]
        }
      ],
      "source": [
        "!pip3 install sacred"
      ]
    },
    {
      "cell_type": "markdown",
      "metadata": {
        "id": "HItt2FrGM4j2"
      },
      "source": [
        "### Example of Sacred on the official website"
      ]
    },
    {
      "cell_type": "code",
      "execution_count": 2,
      "metadata": {
        "id": "dqtae1awWARo"
      },
      "outputs": [
        {
          "name": "stderr",
          "output_type": "stream",
          "text": [
            "/var/folders/pw/83spn3jj6pg9mztv3ymxgkz80000gn/T/ipykernel_9508/3099769027.py:3: DeprecationWarning: `set_matplotlib_formats` is deprecated since IPython 7.23, directly use `matplotlib_inline.backend_inline.set_matplotlib_formats()`\n",
            "  set_matplotlib_formats('retina')\n"
          ]
        }
      ],
      "source": [
        "from IPython.display import set_matplotlib_formats\n",
        "\n",
        "set_matplotlib_formats('retina')"
      ]
    },
    {
      "cell_type": "code",
      "execution_count": 4,
      "metadata": {
        "id": "tQJsMTELM4j2"
      },
      "outputs": [],
      "source": [
        "import pandas as pd\n",
        "from sklearn.preprocessing import OneHotEncoder, LabelEncoder\n",
        "from sklearn.linear_model import LinearRegression\n",
        "import seaborn as sns\n",
        "import warnings\n",
        "import numpy as np\n",
        "import matplotlib.pyplot as plt\n",
        "from ipywidgets import interact\n",
        "from sklearn.metrics import mean_absolute_error\n",
        "from sklearn.metrics import mean_squared_error\n",
        "import os\n",
        "import json\n",
        "from numpy.random import permutation\n",
        "from sklearn import svm, datasets\n",
        "from sacred import Experiment\n",
        "from sacred.observers import FileStorageObserver\n",
        "from IPython.display import set_matplotlib_formats\n",
        "\n",
        "warnings.filterwarnings('ignore')\n",
        "\n",
        "set_matplotlib_formats('retina')\n",
        "\n",
        "PROJECT_ID='nyctaxi-demand-forecast'"
      ]
    },
    {
      "cell_type": "code",
      "execution_count": 5,
      "metadata": {
        "id": "hyoi8g0zM4j3"
      },
      "outputs": [],
      "source": [
        "# Notebooks must specify interactive=True, and this option is not required if it is in script format.\n",
        "ex = Experiment('iris_rbf_svm', interactive=True)\n",
        "ex.observers.append(FileStorageObserver.create('my_runs'))\n",
        "\n",
        "# Save config as Decorator\n",
        "@ex.config\n",
        "def cfg():\n",
        "    C = 1.0\n",
        "    gamma = 0.7\n",
        "\n",
        "# Specify ex.main => At this point, the factors in cfg are automatically injected.\n",
        "# Also, in the Notebook, ex.Write main and use ex.automain in script file\n",
        "\n",
        "@ex.main\n",
        "def run(C, gamma):\n",
        "    iris = datasets.load_iris()\n",
        "    per = permutation(iris.target.size)\n",
        "    iris.data = iris.data[per]\n",
        "    iris.target = iris.target[per]\n",
        "    clf = svm.SVC(C=C, kernel='rbf', gamma=gamma)\n",
        "    clf.fit(iris.data[:90],\n",
        "          iris.target[:90])\n",
        "    return clf.score(iris.data[90:],\n",
        "                   iris.target[90:])"
      ]
    },
    {
      "cell_type": "code",
      "execution_count": 6,
      "metadata": {
        "id": "ew9Z0S9ZM4j4"
      },
      "outputs": [
        {
          "name": "stderr",
          "output_type": "stream",
          "text": [
            "INFO - iris_rbf_svm - Running command 'run'\n",
            "INFO - iris_rbf_svm - Started run with ID \"1\"\n",
            "INFO - iris_rbf_svm - Result: 0.9666666666666667\n",
            "INFO - iris_rbf_svm - Completed after 0:00:00\n"
          ]
        }
      ],
      "source": [
        "run_result = ex.run()"
      ]
    },
    {
      "cell_type": "code",
      "execution_count": 7,
      "metadata": {
        "colab": {
          "base_uri": "https://localhost:8080/"
        },
        "id": "iieH7lmtM4j5",
        "outputId": "f5821954-2e05-4380-ec01-8c6824b6fc20"
      },
      "outputs": [
        {
          "data": {
            "text/plain": [
              "{'C': 1.0, 'gamma': 0.7, 'seed': 715194634}"
            ]
          },
          "execution_count": 7,
          "metadata": {},
          "output_type": "execute_result"
        }
      ],
      "source": [
        "run_result.config"
      ]
    },
    {
      "cell_type": "code",
      "execution_count": 8,
      "metadata": {
        "colab": {
          "base_uri": "https://localhost:8080/"
        },
        "id": "oBS77MVHM4j5",
        "outputId": "fa476eb9-a081-4cfc-b258-d91e9c66d4ee"
      },
      "outputs": [
        {
          "data": {
            "text/plain": [
              "0.9666666666666667"
            ]
          },
          "execution_count": 8,
          "metadata": {},
          "output_type": "execute_result"
        }
      ],
      "source": [
        "run_result.result"
      ]
    },
    {
      "cell_type": "code",
      "execution_count": 9,
      "metadata": {
        "colab": {
          "base_uri": "https://localhost:8080/"
        },
        "id": "WLetH6ElM4j6",
        "outputId": "d3b65bbd-9c7a-4dee-f503-e5089157952c"
      },
      "outputs": [
        {
          "data": {
            "text/plain": [
              "{'name': 'iris_rbf_svm',\n",
              " 'base_dir': '/Users/shim/ml-python-NYCtaxiDemandForecast/models',\n",
              " 'sources': [],\n",
              " 'dependencies': ['ipython==7.31.1',\n",
              "  'ipywidgets==7.6.5',\n",
              "  'matplotlib==3.7.1',\n",
              "  'numpy==1.21.5',\n",
              "  'pandas==1.5.1',\n",
              "  'sacred==0.8.4',\n",
              "  'scikit-learn==1.1.2'],\n",
              " 'repositories': [],\n",
              " 'mainfile': None}"
            ]
          },
          "execution_count": 9,
          "metadata": {},
          "output_type": "execute_result"
        }
      ],
      "source": [
        "run_result.experiment_info"
      ]
    },
    {
      "cell_type": "markdown",
      "metadata": {
        "id": "SesFgHLZM4j6"
      },
      "source": [
        "### Integrate into existing projects"
      ]
    },
    {
      "cell_type": "code",
      "execution_count": 10,
      "metadata": {
        "id": "CJWtyIqYM4j7"
      },
      "outputs": [],
      "source": [
        "ex = Experiment('nyc-demand-prediction', interactive=True)\n",
        "\n",
        "experiment_dir = os.path.join('./', 'experiments')\n",
        "if not os.path.isdir(experiment_dir): \n",
        "    os.makedirs(experiment_dir)\n",
        "ex.observers.append(FileStorageObserver.create(experiment_dir))"
      ]
    },
    {
      "cell_type": "markdown",
      "metadata": {
        "id": "1mFKnKXWM4j7"
      },
      "source": [
        "### Pre-Processing\n"
      ]
    },
    {
      "cell_type": "code",
      "execution_count": 11,
      "metadata": {
        "colab": {
          "base_uri": "https://localhost:8080/"
        },
        "id": "9X9bQz7cM4j7",
        "outputId": "2a2d8329-1caa-4ba1-988b-e0c89d8b78b0"
      },
      "outputs": [
        {
          "name": "stderr",
          "output_type": "stream",
          "text": [
            "WARNING - google.auth.compute_engine._metadata - Compute Engine Metadata server unavailable on attempt 1 of 3. Reason: timed out\n",
            "WARNING - google.auth.compute_engine._metadata - Compute Engine Metadata server unavailable on attempt 2 of 3. Reason: timed out\n",
            "WARNING - google.auth.compute_engine._metadata - Compute Engine Metadata server unavailable on attempt 3 of 3. Reason: [Errno 64] Host is down\n",
            "WARNING - google.auth._default - Authentication failed using Compute Engine authentication due to unavailable metadata server.\n",
            "INFO - pandas_gbq.gbq - Total time taken 7.39 s.\n",
            "Finished at 2023-03-21 12:29:41.\n"
          ]
        },
        {
          "name": "stdout",
          "output_type": "stream",
          "text": [
            "CPU times: user 1.38 s, sys: 164 ms, total: 1.55 s\n",
            "Wall time: 14.9 s\n"
          ]
        }
      ],
      "source": [
        "%%time\n",
        "base_query = \"\"\"\n",
        "WITH base_data AS \n",
        "(\n",
        "  SELECT nyc_taxi.*, gis.* EXCEPT (zip_code_geom)\n",
        "  FROM (\n",
        "    SELECT *\n",
        "    FROM `bigquery-public-data.new_york.tlc_yellow_trips_2015`\n",
        "    WHERE \n",
        "        EXTRACT(MONTH from pickup_datetime) = 1\n",
        "        and pickup_latitude  <= 90 and pickup_latitude >= -90\n",
        "    ) AS nyc_taxi\n",
        "  JOIN (\n",
        "    SELECT zip_code, state_code, state_name, city, county, zip_code_geom\n",
        "    FROM `bigquery-public-data.geo_us_boundaries.zip_codes`\n",
        "    WHERE state_code='NY'\n",
        "    ) AS gis \n",
        "  ON ST_CONTAINS(zip_code_geom, st_geogpoint(pickup_longitude, pickup_latitude))\n",
        ")\n",
        "\n",
        "SELECT \n",
        "    zip_code,\n",
        "    DATETIME_TRUNC(pickup_datetime, hour) as pickup_hour,\n",
        "    EXTRACT(MONTH FROM pickup_datetime) AS month,\n",
        "    EXTRACT(DAY FROM pickup_datetime) AS day,\n",
        "    CAST(format_datetime('%u', pickup_datetime) AS INT64) -1 AS weekday,\n",
        "    EXTRACT(HOUR FROM pickup_datetime) AS hour,\n",
        "    CASE WHEN CAST(FORMAT_DATETIME('%u', pickup_datetime) AS INT64) IN (6, 7) THEN 1 ELSE 0 END AS is_weekend,\n",
        "    COUNT(*) AS cnt\n",
        "FROM base_data \n",
        "GROUP BY zip_code, pickup_hour, month, day, weekday, hour, is_weekend\n",
        "ORDER BY pickup_hour\n",
        "\"\"\"\n",
        "\n",
        "base_df = pd.read_gbq(query=base_query, dialect='standard', project_id=PROJECT_ID)"
      ]
    },
    {
      "cell_type": "markdown",
      "metadata": {
        "id": "EmB7NdGOM4j7"
      },
      "source": [
        "### Feautre Engineering"
      ]
    },
    {
      "cell_type": "code",
      "execution_count": 12,
      "metadata": {
        "id": "ZQLrRbbPM4j8"
      },
      "outputs": [],
      "source": [
        "enc = OneHotEncoder(handle_unknown='ignore')\n",
        "enc.fit(base_df[['zip_code']])\n",
        "ohe_output = enc.transform(base_df[['zip_code']]).toarray()\n",
        "ohe_df = pd.concat([base_df, pd.DataFrame(ohe_output, columns='zip_code_'+enc.categories_[0])], axis=1)\n",
        "ohe_df['log_cnt'] = np.log10(ohe_df['cnt'])"
      ]
    },
    {
      "cell_type": "code",
      "execution_count": 13,
      "metadata": {
        "id": "kruFSZZbM4j8"
      },
      "outputs": [],
      "source": [
        "def split_train_and_test(df, date):\n",
        "    \"\"\"\n",
        "    Dataframe divided by train_df and test_df\n",
        "\n",
        "    df : Time series data frame\n",
        "    date : Reference point date\n",
        "    \"\"\"\n",
        "    train_df = df[df['pickup_hour'] < date]\n",
        "    test_df = df[df['pickup_hour'] >= date]\n",
        "    return train_df, test_df"
      ]
    },
    {
      "cell_type": "markdown",
      "metadata": {
        "id": "FWOqwXG3M4j8"
      },
      "source": [
        "### Split Train / Test "
      ]
    },
    {
      "cell_type": "code",
      "execution_count": 14,
      "metadata": {
        "id": "Ky7oTXfXM4j8"
      },
      "outputs": [],
      "source": [
        "train_df, test_df = split_train_and_test(ohe_df, '2015-01-24')"
      ]
    },
    {
      "cell_type": "code",
      "execution_count": 15,
      "metadata": {
        "colab": {
          "base_uri": "https://localhost:8080/",
          "height": 386
        },
        "id": "ZBRJPmaoM4j8",
        "outputId": "8833ded3-0909-4ac4-b202-171e92eec924"
      },
      "outputs": [
        {
          "data": {
            "text/html": [
              "<div>\n",
              "<style scoped>\n",
              "    .dataframe tbody tr th:only-of-type {\n",
              "        vertical-align: middle;\n",
              "    }\n",
              "\n",
              "    .dataframe tbody tr th {\n",
              "        vertical-align: top;\n",
              "    }\n",
              "\n",
              "    .dataframe thead th {\n",
              "        text-align: right;\n",
              "    }\n",
              "</style>\n",
              "<table border=\"1\" class=\"dataframe\">\n",
              "  <thead>\n",
              "    <tr style=\"text-align: right;\">\n",
              "      <th></th>\n",
              "      <th>zip_code</th>\n",
              "      <th>pickup_hour</th>\n",
              "      <th>month</th>\n",
              "      <th>day</th>\n",
              "      <th>weekday</th>\n",
              "      <th>hour</th>\n",
              "      <th>is_weekend</th>\n",
              "      <th>cnt</th>\n",
              "      <th>zip_code_10001</th>\n",
              "      <th>zip_code_10002</th>\n",
              "      <th>...</th>\n",
              "      <th>zip_code_12729</th>\n",
              "      <th>zip_code_12771</th>\n",
              "      <th>zip_code_13029</th>\n",
              "      <th>zip_code_13118</th>\n",
              "      <th>zip_code_13656</th>\n",
              "      <th>zip_code_13691</th>\n",
              "      <th>zip_code_14072</th>\n",
              "      <th>zip_code_14527</th>\n",
              "      <th>zip_code_14801</th>\n",
              "      <th>log_cnt</th>\n",
              "    </tr>\n",
              "  </thead>\n",
              "  <tbody>\n",
              "    <tr>\n",
              "      <th>65113</th>\n",
              "      <td>11106</td>\n",
              "      <td>2015-01-23 23:00:00+00:00</td>\n",
              "      <td>1</td>\n",
              "      <td>23</td>\n",
              "      <td>4</td>\n",
              "      <td>23</td>\n",
              "      <td>0</td>\n",
              "      <td>34</td>\n",
              "      <td>0.0</td>\n",
              "      <td>0.0</td>\n",
              "      <td>...</td>\n",
              "      <td>0.0</td>\n",
              "      <td>0.0</td>\n",
              "      <td>0.0</td>\n",
              "      <td>0.0</td>\n",
              "      <td>0.0</td>\n",
              "      <td>0.0</td>\n",
              "      <td>0.0</td>\n",
              "      <td>0.0</td>\n",
              "      <td>0.0</td>\n",
              "      <td>1.531479</td>\n",
              "    </tr>\n",
              "    <tr>\n",
              "      <th>65114</th>\n",
              "      <td>10003</td>\n",
              "      <td>2015-01-23 23:00:00+00:00</td>\n",
              "      <td>1</td>\n",
              "      <td>23</td>\n",
              "      <td>4</td>\n",
              "      <td>23</td>\n",
              "      <td>0</td>\n",
              "      <td>2310</td>\n",
              "      <td>0.0</td>\n",
              "      <td>0.0</td>\n",
              "      <td>...</td>\n",
              "      <td>0.0</td>\n",
              "      <td>0.0</td>\n",
              "      <td>0.0</td>\n",
              "      <td>0.0</td>\n",
              "      <td>0.0</td>\n",
              "      <td>0.0</td>\n",
              "      <td>0.0</td>\n",
              "      <td>0.0</td>\n",
              "      <td>0.0</td>\n",
              "      <td>3.363612</td>\n",
              "    </tr>\n",
              "    <tr>\n",
              "      <th>65115</th>\n",
              "      <td>10454</td>\n",
              "      <td>2015-01-23 23:00:00+00:00</td>\n",
              "      <td>1</td>\n",
              "      <td>23</td>\n",
              "      <td>4</td>\n",
              "      <td>23</td>\n",
              "      <td>0</td>\n",
              "      <td>1</td>\n",
              "      <td>0.0</td>\n",
              "      <td>0.0</td>\n",
              "      <td>...</td>\n",
              "      <td>0.0</td>\n",
              "      <td>0.0</td>\n",
              "      <td>0.0</td>\n",
              "      <td>0.0</td>\n",
              "      <td>0.0</td>\n",
              "      <td>0.0</td>\n",
              "      <td>0.0</td>\n",
              "      <td>0.0</td>\n",
              "      <td>0.0</td>\n",
              "      <td>0.0</td>\n",
              "    </tr>\n",
              "    <tr>\n",
              "      <th>65116</th>\n",
              "      <td>11435</td>\n",
              "      <td>2015-01-23 23:00:00+00:00</td>\n",
              "      <td>1</td>\n",
              "      <td>23</td>\n",
              "      <td>4</td>\n",
              "      <td>23</td>\n",
              "      <td>0</td>\n",
              "      <td>2</td>\n",
              "      <td>0.0</td>\n",
              "      <td>0.0</td>\n",
              "      <td>...</td>\n",
              "      <td>0.0</td>\n",
              "      <td>0.0</td>\n",
              "      <td>0.0</td>\n",
              "      <td>0.0</td>\n",
              "      <td>0.0</td>\n",
              "      <td>0.0</td>\n",
              "      <td>0.0</td>\n",
              "      <td>0.0</td>\n",
              "      <td>0.0</td>\n",
              "      <td>0.30103</td>\n",
              "    </tr>\n",
              "    <tr>\n",
              "      <th>65117</th>\n",
              "      <td>11208</td>\n",
              "      <td>2015-01-23 23:00:00+00:00</td>\n",
              "      <td>1</td>\n",
              "      <td>23</td>\n",
              "      <td>4</td>\n",
              "      <td>23</td>\n",
              "      <td>0</td>\n",
              "      <td>1</td>\n",
              "      <td>0.0</td>\n",
              "      <td>0.0</td>\n",
              "      <td>...</td>\n",
              "      <td>0.0</td>\n",
              "      <td>0.0</td>\n",
              "      <td>0.0</td>\n",
              "      <td>0.0</td>\n",
              "      <td>0.0</td>\n",
              "      <td>0.0</td>\n",
              "      <td>0.0</td>\n",
              "      <td>0.0</td>\n",
              "      <td>0.0</td>\n",
              "      <td>0.0</td>\n",
              "    </tr>\n",
              "  </tbody>\n",
              "</table>\n",
              "<p>5 rows × 383 columns</p>\n",
              "</div>"
            ],
            "text/plain": [
              "      zip_code               pickup_hour  month  day  weekday  hour  \\\n",
              "65113    11106 2015-01-23 23:00:00+00:00      1   23        4    23   \n",
              "65114    10003 2015-01-23 23:00:00+00:00      1   23        4    23   \n",
              "65115    10454 2015-01-23 23:00:00+00:00      1   23        4    23   \n",
              "65116    11435 2015-01-23 23:00:00+00:00      1   23        4    23   \n",
              "65117    11208 2015-01-23 23:00:00+00:00      1   23        4    23   \n",
              "\n",
              "       is_weekend   cnt  zip_code_10001  zip_code_10002  ...  zip_code_12729  \\\n",
              "65113           0    34             0.0             0.0  ...             0.0   \n",
              "65114           0  2310             0.0             0.0  ...             0.0   \n",
              "65115           0     1             0.0             0.0  ...             0.0   \n",
              "65116           0     2             0.0             0.0  ...             0.0   \n",
              "65117           0     1             0.0             0.0  ...             0.0   \n",
              "\n",
              "       zip_code_12771  zip_code_13029  zip_code_13118  zip_code_13656  \\\n",
              "65113             0.0             0.0             0.0             0.0   \n",
              "65114             0.0             0.0             0.0             0.0   \n",
              "65115             0.0             0.0             0.0             0.0   \n",
              "65116             0.0             0.0             0.0             0.0   \n",
              "65117             0.0             0.0             0.0             0.0   \n",
              "\n",
              "       zip_code_13691  zip_code_14072  zip_code_14527  zip_code_14801  \\\n",
              "65113             0.0             0.0             0.0             0.0   \n",
              "65114             0.0             0.0             0.0             0.0   \n",
              "65115             0.0             0.0             0.0             0.0   \n",
              "65116             0.0             0.0             0.0             0.0   \n",
              "65117             0.0             0.0             0.0             0.0   \n",
              "\n",
              "        log_cnt  \n",
              "65113  1.531479  \n",
              "65114  3.363612  \n",
              "65115       0.0  \n",
              "65116   0.30103  \n",
              "65117       0.0  \n",
              "\n",
              "[5 rows x 383 columns]"
            ]
          },
          "execution_count": 15,
          "metadata": {},
          "output_type": "execute_result"
        }
      ],
      "source": [
        "train_df.tail()"
      ]
    },
    {
      "cell_type": "markdown",
      "metadata": {
        "id": "Sx0dQatKM4j9"
      },
      "source": [
        "- Delete columns I don't want to use"
      ]
    },
    {
      "cell_type": "code",
      "execution_count": 16,
      "metadata": {
        "id": "Uq-n2TvaM4j9"
      },
      "outputs": [],
      "source": [
        "del train_df['zip_code']\n",
        "del train_df['pickup_hour']\n",
        "del test_df['zip_code']\n",
        "del test_df['pickup_hour']"
      ]
    },
    {
      "cell_type": "code",
      "execution_count": 18,
      "metadata": {
        "id": "pS8Kis6uM4j9",
        "outputId": "07a217ca-9850-4c5c-b7db-ee2e482f6e3a"
      },
      "outputs": [
        {
          "data": {
            "text/html": [
              "<div>\n",
              "<style scoped>\n",
              "    .dataframe tbody tr th:only-of-type {\n",
              "        vertical-align: middle;\n",
              "    }\n",
              "\n",
              "    .dataframe tbody tr th {\n",
              "        vertical-align: top;\n",
              "    }\n",
              "\n",
              "    .dataframe thead th {\n",
              "        text-align: right;\n",
              "    }\n",
              "</style>\n",
              "<table border=\"1\" class=\"dataframe\">\n",
              "  <thead>\n",
              "    <tr style=\"text-align: right;\">\n",
              "      <th></th>\n",
              "      <th>month</th>\n",
              "      <th>day</th>\n",
              "      <th>weekday</th>\n",
              "      <th>hour</th>\n",
              "      <th>is_weekend</th>\n",
              "      <th>cnt</th>\n",
              "      <th>zip_code_10001</th>\n",
              "      <th>zip_code_10002</th>\n",
              "      <th>zip_code_10003</th>\n",
              "      <th>zip_code_10004</th>\n",
              "      <th>...</th>\n",
              "      <th>zip_code_12729</th>\n",
              "      <th>zip_code_12771</th>\n",
              "      <th>zip_code_13029</th>\n",
              "      <th>zip_code_13118</th>\n",
              "      <th>zip_code_13656</th>\n",
              "      <th>zip_code_13691</th>\n",
              "      <th>zip_code_14072</th>\n",
              "      <th>zip_code_14527</th>\n",
              "      <th>zip_code_14801</th>\n",
              "      <th>log_cnt</th>\n",
              "    </tr>\n",
              "  </thead>\n",
              "  <tbody>\n",
              "    <tr>\n",
              "      <th>0</th>\n",
              "      <td>1</td>\n",
              "      <td>1</td>\n",
              "      <td>3</td>\n",
              "      <td>0</td>\n",
              "      <td>0</td>\n",
              "      <td>169</td>\n",
              "      <td>0.0</td>\n",
              "      <td>0.0</td>\n",
              "      <td>0.0</td>\n",
              "      <td>0.0</td>\n",
              "      <td>...</td>\n",
              "      <td>0.0</td>\n",
              "      <td>0.0</td>\n",
              "      <td>0.0</td>\n",
              "      <td>0.0</td>\n",
              "      <td>0.0</td>\n",
              "      <td>0.0</td>\n",
              "      <td>0.0</td>\n",
              "      <td>0.0</td>\n",
              "      <td>0.0</td>\n",
              "      <td>2.227887</td>\n",
              "    </tr>\n",
              "    <tr>\n",
              "      <th>1</th>\n",
              "      <td>1</td>\n",
              "      <td>1</td>\n",
              "      <td>3</td>\n",
              "      <td>0</td>\n",
              "      <td>0</td>\n",
              "      <td>10</td>\n",
              "      <td>0.0</td>\n",
              "      <td>0.0</td>\n",
              "      <td>0.0</td>\n",
              "      <td>0.0</td>\n",
              "      <td>...</td>\n",
              "      <td>0.0</td>\n",
              "      <td>0.0</td>\n",
              "      <td>0.0</td>\n",
              "      <td>0.0</td>\n",
              "      <td>0.0</td>\n",
              "      <td>0.0</td>\n",
              "      <td>0.0</td>\n",
              "      <td>0.0</td>\n",
              "      <td>0.0</td>\n",
              "      <td>1.0</td>\n",
              "    </tr>\n",
              "  </tbody>\n",
              "</table>\n",
              "<p>2 rows × 381 columns</p>\n",
              "</div>"
            ],
            "text/plain": [
              "   month  day  weekday  hour  is_weekend  cnt  zip_code_10001  zip_code_10002  \\\n",
              "0      1    1        3     0           0  169             0.0             0.0   \n",
              "1      1    1        3     0           0   10             0.0             0.0   \n",
              "\n",
              "   zip_code_10003  zip_code_10004  ...  zip_code_12729  zip_code_12771  \\\n",
              "0             0.0             0.0  ...             0.0             0.0   \n",
              "1             0.0             0.0  ...             0.0             0.0   \n",
              "\n",
              "   zip_code_13029  zip_code_13118  zip_code_13656  zip_code_13691  \\\n",
              "0             0.0             0.0             0.0             0.0   \n",
              "1             0.0             0.0             0.0             0.0   \n",
              "\n",
              "   zip_code_14072  zip_code_14527  zip_code_14801   log_cnt  \n",
              "0             0.0             0.0             0.0  2.227887  \n",
              "1             0.0             0.0             0.0       1.0  \n",
              "\n",
              "[2 rows x 381 columns]"
            ]
          },
          "execution_count": 18,
          "metadata": {},
          "output_type": "execute_result"
        }
      ],
      "source": [
        "train_df.head(2)"
      ]
    },
    {
      "cell_type": "code",
      "execution_count": 19,
      "metadata": {
        "id": "FpL8NX4ZM4j9"
      },
      "outputs": [],
      "source": [
        "y_train_raw = train_df.pop('cnt')\n",
        "y_train_log = train_df.pop('log_cnt')\n",
        "y_test_raw = test_df.pop('cnt')\n",
        "y_test_log = test_df.pop('log_cnt')"
      ]
    },
    {
      "cell_type": "code",
      "execution_count": 20,
      "metadata": {
        "id": "J1dLAHfEM4j9"
      },
      "outputs": [],
      "source": [
        "y_true = y_test_raw.values.copy()"
      ]
    },
    {
      "cell_type": "code",
      "execution_count": 26,
      "metadata": {
        "id": "zkgWkkEqM4j9"
      },
      "outputs": [],
      "source": [
        "x_train = train_df.copy()\n",
        "x_test = test_df.copy()"
      ]
    },
    {
      "cell_type": "code",
      "execution_count": 27,
      "metadata": {
        "id": "Lc5cLC95M4j9"
      },
      "outputs": [],
      "source": [
        "def evaluation(y_true, y_pred): \n",
        "    y_true, y_pred = np.array(y_true), np.array(y_pred)\n",
        "    mape = np.mean(np.abs((y_true - y_pred) / y_true)) * 100\n",
        "    mae = mean_absolute_error(y_true, y_pred)\n",
        "    mse = mean_squared_error(y_true, y_pred)\n",
        "    score = pd.DataFrame([mape, mae, mse], index=['mape', 'mae', 'mse'], columns=['score']).T\n",
        "    return score"
      ]
    },
    {
      "cell_type": "markdown",
      "metadata": {
        "id": "39GWEb0yM4j-"
      },
      "source": [
        "### Experimental Settings\n",
        "- Ex = Experimental ('nyc-demand-prediction', interactive=True') above, but save the setting as ex.config\n",
        "- ex.capture uses the corresponding setting to return the function\n",
        "- ex.main contains what to do when the experiment runs"
      ]
    },
    {
      "cell_type": "code",
      "execution_count": 28,
      "metadata": {
        "id": "tfntMLgGM4j-"
      },
      "outputs": [],
      "source": [
        "@ex.config\n",
        "def config():\n",
        "    fit_intercept=True\n",
        "    normalize=False"
      ]
    },
    {
      "cell_type": "code",
      "execution_count": 23,
      "metadata": {
        "id": "KnlqHQhQM4j-"
      },
      "outputs": [],
      "source": [
        "@ex.capture\n",
        "def get_model(fit_intercept, normalize):\n",
        "    return LinearRegression(fit_intercept=fit_intercept)"
      ]
    },
    {
      "cell_type": "code",
      "execution_count": 29,
      "metadata": {
        "id": "RIGt5AHaM4j-"
      },
      "outputs": [],
      "source": [
        "# _log and _run can be used as factors for functions without having to be defined separately\n",
        "@ex.main\n",
        "def run(_log, _run):\n",
        "    lr_reg = get_model()\n",
        "    lr_reg.fit(x_train, y_train_raw)\n",
        "    pred = lr_reg.predict(x_test)\n",
        "    # Save log to logFile\n",
        "    _log.info(\"Predict End\")\n",
        "    score = evaluation(y_test_raw, pred)\n",
        "    _run.log_scalar('model_name', lr_reg.__class__.__name__)\n",
        "    \n",
        "    # If you want to save it on Metrics side, use it as below.\n",
        "    _run.log_scalar('metrics', score)\n",
        "    \n",
        "    # If you want to save it to the result side, use it as below.\n",
        "    return score.to_dict()\n"
      ]
    },
    {
      "cell_type": "code",
      "execution_count": 30,
      "metadata": {
        "id": "tSXk_9lXM4j-"
      },
      "outputs": [
        {
          "name": "stderr",
          "output_type": "stream",
          "text": [
            "INFO - nyc-demand-prediction - Running command 'run'\n",
            "INFO - nyc-demand-prediction - Started run with ID \"3\"\n",
            "INFO - run - Predict End\n",
            "INFO - nyc-demand-prediction - Result: {'mape': {'score': 20309311547.545113}, 'mae': {'score': 207606380.14054915}, 'mse': {'score': 4.104279475456833e+19}}\n",
            "INFO - nyc-demand-prediction - Completed after 0:00:04\n"
          ]
        }
      ],
      "source": [
        "experiment_result = ex.run()"
      ]
    },
    {
      "cell_type": "code",
      "execution_count": 31,
      "metadata": {
        "colab": {
          "base_uri": "https://localhost:8080/"
        },
        "id": "Lxh_YIQXM4j_",
        "outputId": "c55e99d9-d01c-4291-b376-094b19042110"
      },
      "outputs": [
        {
          "data": {
            "text/plain": [
              "{'fit_intercept': True, 'normalize': False, 'seed': 795848682}"
            ]
          },
          "execution_count": 31,
          "metadata": {},
          "output_type": "execute_result"
        }
      ],
      "source": [
        "experiment_result.config"
      ]
    },
    {
      "cell_type": "markdown",
      "metadata": {
        "id": "8-hDtdNnM4j_"
      },
      "source": [
        "### Parser to verify Experience\n",
        "- The function to use depends on how you take log in Experiment\n",
        "  - 1) If you store metrics in \\_run.log\\_scalar: recommended\n",
        "  - 2) @ex.To return the result to the function of the main"
      ]
    },
    {
      "cell_type": "code",
      "execution_count": 32,
      "metadata": {
        "id": "AZiZg178M4j_"
      },
      "outputs": [],
      "source": [
        "# 1) If you store metrics in _run.log_scalar\n",
        "def parsing_output(ex_id):\n",
        "    with open(f'./experiments/{ex_id}/metrics.json') as json_file:\n",
        "        json_data = json.load(json_file)\n",
        "    with open(f'./experiments/{ex_id}/config.json') as config_file:\n",
        "        config_data = json.load(config_file)\n",
        "    \n",
        "    output_df = pd.DataFrame(json_data['model_name']['values'], columns=['model_name'], index=['score'])\n",
        "    output_df['experiment_num'] = ex_id\n",
        "    output_df['config'] = str(config_data)\n",
        "    metric_df = pd.DataFrame(json_data['metrics']['values'][0]['values'])\n",
        "    \n",
        "    output_df = pd.concat([output_df, metric_df], axis=1)\n",
        "    output_df = output_df.round(2)\n",
        "    return output_df"
      ]
    },
    {
      "cell_type": "code",
      "execution_count": 33,
      "metadata": {
        "id": "xr531UEOM4j_"
      },
      "outputs": [],
      "source": [
        "# 2) @ex.To return the result to the function of the main\n",
        "def parsing_output(ex_id):\n",
        "    with open(f'./experiments/{ex_id}/run.json') as json_file:\n",
        "        json_data = json.load(json_file)\n",
        "    output = pd.DataFrame(json_data['result'])\n",
        "    return output"
      ]
    },
    {
      "cell_type": "code",
      "execution_count": 35,
      "metadata": {
        "colab": {
          "base_uri": "https://localhost:8080/",
          "height": 49
        },
        "id": "RRuPKl8OM4j_",
        "outputId": "cf3825ac-dcf2-4fc7-9b30-537a43b84e19"
      },
      "outputs": [
        {
          "data": {
            "text/html": [
              "<div>\n",
              "<style scoped>\n",
              "    .dataframe tbody tr th:only-of-type {\n",
              "        vertical-align: middle;\n",
              "    }\n",
              "\n",
              "    .dataframe tbody tr th {\n",
              "        vertical-align: top;\n",
              "    }\n",
              "\n",
              "    .dataframe thead th {\n",
              "        text-align: right;\n",
              "    }\n",
              "</style>\n",
              "<table border=\"1\" class=\"dataframe\">\n",
              "  <thead>\n",
              "    <tr style=\"text-align: right;\">\n",
              "      <th></th>\n",
              "      <th>mae</th>\n",
              "      <th>mape</th>\n",
              "      <th>mse</th>\n",
              "    </tr>\n",
              "  </thead>\n",
              "  <tbody>\n",
              "    <tr>\n",
              "      <th>score</th>\n",
              "      <td>2.076064e+08</td>\n",
              "      <td>2.030931e+10</td>\n",
              "      <td>4.104279e+19</td>\n",
              "    </tr>\n",
              "  </tbody>\n",
              "</table>\n",
              "</div>"
            ],
            "text/plain": [
              "                mae          mape           mse\n",
              "score  2.076064e+08  2.030931e+10  4.104279e+19"
            ]
          },
          "execution_count": 35,
          "metadata": {},
          "output_type": "execute_result"
        }
      ],
      "source": [
        "parsing_output(3)"
      ]
    },
    {
      "cell_type": "markdown",
      "metadata": {
        "id": "OyTZVkFlM4kA"
      },
      "source": [
        "### If you're curious about more details,\n",
        "- [Sacred Github](https://github.com/IDSIA/sacred)\n",
        "- [Introducing Python Sacred to help with the machine learning experiment] (https://zzsza.github.io/mlops/2019/07/21/python-sacred/))\n",
        "- [Experimental and log monitoring using Sacred and Omniboard] (https://zzsza.github.io/mlops/2019/07/22/sacred-with-omniboard/)"
      ]
    }
  ],
  "metadata": {
    "colab": {
      "provenance": []
    },
    "kernelspec": {
      "display_name": "tensorlow",
      "language": "python",
      "name": "python3"
    },
    "language_info": {
      "codemirror_mode": {
        "name": "ipython",
        "version": 3
      },
      "file_extension": ".py",
      "mimetype": "text/x-python",
      "name": "python",
      "nbconvert_exporter": "python",
      "pygments_lexer": "ipython3",
      "version": "3.9.13"
    },
    "varInspector": {
      "cols": {
        "lenName": 16,
        "lenType": 16,
        "lenVar": 40
      },
      "kernels_config": {
        "python": {
          "delete_cmd_postfix": "",
          "delete_cmd_prefix": "del ",
          "library": "var_list.py",
          "varRefreshCmd": "print(var_dic_list())"
        },
        "r": {
          "delete_cmd_postfix": ") ",
          "delete_cmd_prefix": "rm(",
          "library": "var_list.r",
          "varRefreshCmd": "cat(var_dic_list()) "
        }
      },
      "types_to_exclude": [
        "module",
        "function",
        "builtin_function_or_method",
        "instance",
        "_Feature"
      ],
      "window_display": false
    },
    "vscode": {
      "interpreter": {
        "hash": "df91ba904fc0ddff678163920c6ef2ad7c34ea545b659526d6231a5a98fa2aac"
      }
    }
  },
  "nbformat": 4,
  "nbformat_minor": 0
}
