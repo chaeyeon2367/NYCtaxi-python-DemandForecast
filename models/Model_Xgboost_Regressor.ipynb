{
  "cells": [
    {
      "cell_type": "markdown",
      "metadata": {
        "id": "DzCGRmhwwi0P"
      },
      "source": [
        "## XGBoost Regerssor\n",
        "- Objective\n",
        "    - Utilizing the XGBoost sklearn API\n",
        "    - Using Regressor instead of Classification\n",
        "- References\n",
        "    - https://brunch.co.kr/@snobberys/137\n",
        "    - https://homes.cs.washington.edu/~tqchen/pdf/BoostedTree.pdf"
      ]
    },
    {
      "cell_type": "code",
      "execution_count": 1,
      "metadata": {
        "colab": {
          "base_uri": "https://localhost:8080/"
        },
        "id": "x1GXC1NgziFX",
        "outputId": "8337b055-d699-47ca-8d5f-d0457d896465"
      },
      "outputs": [
        {
          "name": "stdout",
          "output_type": "stream",
          "text": [
            "Requirement already satisfied: sacred in /opt/anaconda3/envs/tensorlow/lib/python3.9/site-packages (0.8.4)\n",
            "Requirement already satisfied: munch<3.0,>=2.5 in /opt/anaconda3/envs/tensorlow/lib/python3.9/site-packages (from sacred) (2.5.0)\n",
            "Requirement already satisfied: colorama>=0.4 in /opt/anaconda3/envs/tensorlow/lib/python3.9/site-packages (from sacred) (0.4.5)\n",
            "Requirement already satisfied: GitPython in /opt/anaconda3/envs/tensorlow/lib/python3.9/site-packages (from sacred) (3.1.29)\n",
            "Requirement already satisfied: py-cpuinfo>=4.0 in /opt/anaconda3/envs/tensorlow/lib/python3.9/site-packages (from sacred) (9.0.0)\n",
            "Requirement already satisfied: packaging>=18.0 in /opt/anaconda3/envs/tensorlow/lib/python3.9/site-packages (from sacred) (21.3)\n",
            "Requirement already satisfied: docopt<1.0,>=0.3 in /opt/anaconda3/envs/tensorlow/lib/python3.9/site-packages (from sacred) (0.6.2)\n",
            "Requirement already satisfied: wrapt<2.0,>=1.0 in /opt/anaconda3/envs/tensorlow/lib/python3.9/site-packages (from sacred) (1.14.1)\n",
            "Requirement already satisfied: jsonpickle>=1.2 in /opt/anaconda3/envs/tensorlow/lib/python3.9/site-packages (from sacred) (3.0.1)\n",
            "Requirement already satisfied: six in /opt/anaconda3/envs/tensorlow/lib/python3.9/site-packages (from munch<3.0,>=2.5->sacred) (1.16.0)\n",
            "Requirement already satisfied: pyparsing!=3.0.5,>=2.0.2 in /opt/anaconda3/envs/tensorlow/lib/python3.9/site-packages (from packaging>=18.0->sacred) (3.0.9)\n",
            "Requirement already satisfied: gitdb<5,>=4.0.1 in /opt/anaconda3/envs/tensorlow/lib/python3.9/site-packages (from GitPython->sacred) (4.0.9)\n",
            "Requirement already satisfied: smmap<6,>=3.0.1 in /opt/anaconda3/envs/tensorlow/lib/python3.9/site-packages (from gitdb<5,>=4.0.1->GitPython->sacred) (5.0.0)\n"
          ]
        }
      ],
      "source": [
        "!pip3 install sacred"
      ]
    },
    {
      "cell_type": "code",
      "execution_count": 2,
      "metadata": {},
      "outputs": [
        {
          "name": "stdout",
          "output_type": "stream",
          "text": [
            "Collecting xgboost\n",
            "  Downloading xgboost-1.7.4-py3-none-macosx_10_15_x86_64.macosx_11_0_x86_64.macosx_12_0_x86_64.whl (1.8 MB)\n",
            "\u001b[2K     \u001b[90m━━━━━━━━━━━━━━━━━━━━━━━━━━━━━━━━━━━━━━━━\u001b[0m \u001b[32m1.8/1.8 MB\u001b[0m \u001b[31m2.0 MB/s\u001b[0m eta \u001b[36m0:00:00\u001b[0m00:01\u001b[0m00:01\u001b[0m0m\n",
            "\u001b[?25hRequirement already satisfied: numpy in /opt/anaconda3/envs/tensorlow/lib/python3.9/site-packages (from xgboost) (1.21.5)\n",
            "Requirement already satisfied: scipy in /opt/anaconda3/envs/tensorlow/lib/python3.9/site-packages (from xgboost) (1.7.3)\n",
            "Installing collected packages: xgboost\n",
            "Successfully installed xgboost-1.7.4\n"
          ]
        }
      ],
      "source": [
        "!pip install xgboost"
      ]
    },
    {
      "cell_type": "code",
      "execution_count": 7,
      "metadata": {},
      "outputs": [
        {
          "name": "stdout",
          "output_type": "stream",
          "text": [
            "Collecting pandas-gbq\n",
            "  Downloading pandas_gbq-0.19.1-py2.py3-none-any.whl (25 kB)\n",
            "Requirement already satisfied: pandas>=1.1.4 in /opt/anaconda3/envs/tensorlow/lib/python3.9/site-packages (from pandas-gbq) (1.5.1)\n",
            "Collecting google-cloud-bigquery-storage<3.0.0dev,>=2.16.2\n",
            "  Downloading google_cloud_bigquery_storage-2.19.0-py2.py3-none-any.whl (190 kB)\n",
            "\u001b[2K     \u001b[90m━━━━━━━━━━━━━━━━━━━━━━━━━━━━━━━━━━━━━━━\u001b[0m \u001b[32m190.2/190.2 kB\u001b[0m \u001b[31m7.8 MB/s\u001b[0m eta \u001b[36m0:00:00\u001b[0m\n",
            "\u001b[?25hCollecting google-auth-oauthlib>=0.7.0\n",
            "  Downloading google_auth_oauthlib-1.0.0-py2.py3-none-any.whl (18 kB)\n",
            "Requirement already satisfied: setuptools in /opt/anaconda3/envs/tensorlow/lib/python3.9/site-packages (from pandas-gbq) (65.5.0)\n",
            "Requirement already satisfied: pyarrow>=3.0.0 in /opt/anaconda3/envs/tensorlow/lib/python3.9/site-packages (from pandas-gbq) (10.0.0)\n",
            "Collecting db-dtypes<2.0.0,>=1.0.4\n",
            "  Downloading db_dtypes-1.0.5-py2.py3-none-any.whl (14 kB)\n",
            "Collecting pydata-google-auth>=1.5.0\n",
            "  Downloading pydata_google_auth-1.7.0-py2.py3-none-any.whl (14 kB)\n",
            "Collecting google-api-core<3.0.0dev,>=2.10.2\n",
            "  Downloading google_api_core-2.11.0-py3-none-any.whl (120 kB)\n",
            "\u001b[2K     \u001b[90m━━━━━━━━━━━━━━━━━━━━━━━━━━━━━━━━━━━━━━\u001b[0m \u001b[32m120.3/120.3 kB\u001b[0m \u001b[31m12.0 MB/s\u001b[0m eta \u001b[36m0:00:00\u001b[0m\n",
            "\u001b[?25hCollecting google-cloud-bigquery!=2.4.*,<4.0.0dev,>=3.3.5\n",
            "  Downloading google_cloud_bigquery-3.7.0-py2.py3-none-any.whl (215 kB)\n",
            "\u001b[2K     \u001b[90m━━━━━━━━━━━━━━━━━━━━━━━━━━━━━━━━━━━━━━\u001b[0m \u001b[32m215.5/215.5 kB\u001b[0m \u001b[31m20.7 MB/s\u001b[0m eta \u001b[36m0:00:00\u001b[0m\n",
            "\u001b[?25hRequirement already satisfied: numpy>=1.16.6 in /opt/anaconda3/envs/tensorlow/lib/python3.9/site-packages (from pandas-gbq) (1.21.5)\n",
            "Collecting google-auth>=2.13.0\n",
            "  Downloading google_auth-2.16.2-py2.py3-none-any.whl (177 kB)\n",
            "\u001b[2K     \u001b[90m━━━━━━━━━━━━━━━━━━━━━━━━━━━━━━━━━━━━━━\u001b[0m \u001b[32m177.2/177.2 kB\u001b[0m \u001b[31m17.1 MB/s\u001b[0m eta \u001b[36m0:00:00\u001b[0m\n",
            "\u001b[?25hRequirement already satisfied: packaging>=17.0 in /opt/anaconda3/envs/tensorlow/lib/python3.9/site-packages (from db-dtypes<2.0.0,>=1.0.4->pandas-gbq) (21.3)\n",
            "Collecting googleapis-common-protos<2.0dev,>=1.56.2\n",
            "  Downloading googleapis_common_protos-1.58.0-py2.py3-none-any.whl (223 kB)\n",
            "\u001b[2K     \u001b[90m━━━━━━━━━━━━━━━━━━━━━━━━━━━━━━━━━━━━━━\u001b[0m \u001b[32m223.0/223.0 kB\u001b[0m \u001b[31m19.6 MB/s\u001b[0m eta \u001b[36m0:00:00\u001b[0m\n",
            "\u001b[?25hCollecting protobuf!=3.20.0,!=3.20.1,!=4.21.0,!=4.21.1,!=4.21.2,!=4.21.3,!=4.21.4,!=4.21.5,<5.0.0dev,>=3.19.5\n",
            "  Downloading protobuf-4.22.1-cp37-abi3-macosx_10_9_universal2.whl (397 kB)\n",
            "\u001b[2K     \u001b[90m━━━━━━━━━━━━━━━━━━━━━━━━━━━━━━━━━━━━━━\u001b[0m \u001b[32m397.2/397.2 kB\u001b[0m \u001b[31m20.5 MB/s\u001b[0m eta \u001b[36m0:00:00\u001b[0m\n",
            "\u001b[?25hCollecting requests<3.0.0dev,>=2.18.0\n",
            "  Downloading requests-2.28.2-py3-none-any.whl (62 kB)\n",
            "\u001b[2K     \u001b[90m━━━━━━━━━━━━━━━━━━━━━━━━━━━━━━━━━━━━━━━━\u001b[0m \u001b[32m62.8/62.8 kB\u001b[0m \u001b[31m7.6 MB/s\u001b[0m eta \u001b[36m0:00:00\u001b[0m\n",
            "\u001b[?25hRequirement already satisfied: pyasn1-modules>=0.2.1 in /opt/anaconda3/envs/tensorlow/lib/python3.9/site-packages (from google-auth>=2.13.0->pandas-gbq) (0.2.8)\n",
            "Requirement already satisfied: six>=1.9.0 in /opt/anaconda3/envs/tensorlow/lib/python3.9/site-packages (from google-auth>=2.13.0->pandas-gbq) (1.16.0)\n",
            "Requirement already satisfied: rsa<5,>=3.1.4 in /opt/anaconda3/envs/tensorlow/lib/python3.9/site-packages (from google-auth>=2.13.0->pandas-gbq) (4.7.2)\n",
            "Requirement already satisfied: cachetools<6.0,>=2.0.0 in /opt/anaconda3/envs/tensorlow/lib/python3.9/site-packages (from google-auth>=2.13.0->pandas-gbq) (4.2.2)\n",
            "Requirement already satisfied: requests-oauthlib>=0.7.0 in /opt/anaconda3/envs/tensorlow/lib/python3.9/site-packages (from google-auth-oauthlib>=0.7.0->pandas-gbq) (1.3.0)\n",
            "Collecting proto-plus<2.0.0dev,>=1.15.0\n",
            "  Downloading proto_plus-1.22.2-py3-none-any.whl (47 kB)\n",
            "\u001b[2K     \u001b[90m━━━━━━━━━━━━━━━━━━━━━━━━━━━━━━━━━━━━━━━━\u001b[0m \u001b[32m47.9/47.9 kB\u001b[0m \u001b[31m6.6 MB/s\u001b[0m eta \u001b[36m0:00:00\u001b[0m\n",
            "\u001b[?25hCollecting google-cloud-core<3.0.0dev,>=1.6.0\n",
            "  Downloading google_cloud_core-2.3.2-py2.py3-none-any.whl (29 kB)\n",
            "Collecting google-resumable-media<3.0dev,>=0.6.0\n",
            "  Downloading google_resumable_media-2.4.1-py2.py3-none-any.whl (77 kB)\n",
            "\u001b[2K     \u001b[90m━━━━━━━━━━━━━━━━━━━━━━━━━━━━━━━━━━━━━━━━\u001b[0m \u001b[32m77.7/77.7 kB\u001b[0m \u001b[31m7.4 MB/s\u001b[0m eta \u001b[36m0:00:00\u001b[0m\n",
            "\u001b[?25hRequirement already satisfied: python-dateutil<3.0dev,>=2.7.2 in /opt/anaconda3/envs/tensorlow/lib/python3.9/site-packages (from google-cloud-bigquery!=2.4.*,<4.0.0dev,>=3.3.5->pandas-gbq) (2.8.2)\n",
            "Collecting grpcio<2.0dev,>=1.47.0\n",
            "  Downloading grpcio-1.51.3-cp39-cp39-macosx_10_10_universal2.whl (8.2 MB)\n",
            "\u001b[2K     \u001b[90m━━━━━━━━━━━━━━━━━━━━━━━━━━━━━━━━━━━━━━━━\u001b[0m \u001b[32m8.2/8.2 MB\u001b[0m \u001b[31m19.6 MB/s\u001b[0m eta \u001b[36m0:00:00\u001b[0m00:01\u001b[0m00:01\u001b[0m\n",
            "\u001b[?25hRequirement already satisfied: pytz>=2020.1 in /opt/anaconda3/envs/tensorlow/lib/python3.9/site-packages (from pandas>=1.1.4->pandas-gbq) (2022.1)\n",
            "Collecting grpcio-status<2.0dev,>=1.33.2\n",
            "  Downloading grpcio_status-1.51.3-py3-none-any.whl (5.1 kB)\n",
            "Collecting google-crc32c<2.0dev,>=1.0\n",
            "  Downloading google_crc32c-1.5.0-cp39-cp39-macosx_10_9_x86_64.whl (30 kB)\n",
            "Requirement already satisfied: pyparsing!=3.0.5,>=2.0.2 in /opt/anaconda3/envs/tensorlow/lib/python3.9/site-packages (from packaging>=17.0->db-dtypes<2.0.0,>=1.0.4->pandas-gbq) (3.0.9)\n",
            "Requirement already satisfied: pyasn1<0.5.0,>=0.4.6 in /opt/anaconda3/envs/tensorlow/lib/python3.9/site-packages (from pyasn1-modules>=0.2.1->google-auth>=2.13.0->pandas-gbq) (0.4.8)\n",
            "Requirement already satisfied: certifi>=2017.4.17 in /opt/anaconda3/envs/tensorlow/lib/python3.9/site-packages (from requests<3.0.0dev,>=2.18.0->google-api-core<3.0.0dev,>=2.10.2->pandas-gbq) (2022.12.7)\n",
            "Requirement already satisfied: idna<4,>=2.5 in /opt/anaconda3/envs/tensorlow/lib/python3.9/site-packages (from requests<3.0.0dev,>=2.18.0->google-api-core<3.0.0dev,>=2.10.2->pandas-gbq) (3.4)\n",
            "Requirement already satisfied: urllib3<1.27,>=1.21.1 in /opt/anaconda3/envs/tensorlow/lib/python3.9/site-packages (from requests<3.0.0dev,>=2.18.0->google-api-core<3.0.0dev,>=2.10.2->pandas-gbq) (1.26.12)\n",
            "Requirement already satisfied: charset-normalizer<4,>=2 in /opt/anaconda3/envs/tensorlow/lib/python3.9/site-packages (from requests<3.0.0dev,>=2.18.0->google-api-core<3.0.0dev,>=2.10.2->pandas-gbq) (2.0.4)\n",
            "Requirement already satisfied: oauthlib>=3.0.0 in /opt/anaconda3/envs/tensorlow/lib/python3.9/site-packages (from requests-oauthlib>=0.7.0->google-auth-oauthlib>=0.7.0->pandas-gbq) (3.2.1)\n",
            "Installing collected packages: requests, protobuf, grpcio, google-crc32c, proto-plus, googleapis-common-protos, google-resumable-media, google-auth, grpcio-status, google-auth-oauthlib, google-api-core, db-dtypes, pydata-google-auth, google-cloud-core, google-cloud-bigquery-storage, google-cloud-bigquery, pandas-gbq\n",
            "  Attempting uninstall: requests\n",
            "    Found existing installation: requests 1.2.3\n",
            "    Uninstalling requests-1.2.3:\n",
            "      Successfully uninstalled requests-1.2.3\n",
            "  Attempting uninstall: protobuf\n",
            "    Found existing installation: protobuf 3.20.1\n",
            "    Uninstalling protobuf-3.20.1:\n",
            "      Successfully uninstalled protobuf-3.20.1\n",
            "  Attempting uninstall: grpcio\n",
            "    Found existing installation: grpcio 1.42.0\n",
            "    Uninstalling grpcio-1.42.0:\n",
            "      Successfully uninstalled grpcio-1.42.0\n",
            "  Attempting uninstall: google-auth\n",
            "    Found existing installation: google-auth 2.6.0\n",
            "    Uninstalling google-auth-2.6.0:\n",
            "      Successfully uninstalled google-auth-2.6.0\n",
            "  Attempting uninstall: google-auth-oauthlib\n",
            "    Found existing installation: google-auth-oauthlib 0.4.4\n",
            "    Uninstalling google-auth-oauthlib-0.4.4:\n",
            "      Successfully uninstalled google-auth-oauthlib-0.4.4\n",
            "\u001b[31mERROR: pip's dependency resolver does not currently take into account all the packages that are installed. This behaviour is the source of the following dependency conflicts.\n",
            "tensorflow 2.9.1 requires libclang>=13.0.0, which is not installed.\n",
            "tensorflow 2.9.1 requires tensorflow-io-gcs-filesystem>=0.23.1, which is not installed.\n",
            "tensorflow 2.9.1 requires flatbuffers<2,>=1.12, but you have flatbuffers 20210226132247 which is incompatible.\n",
            "tensorflow 2.9.1 requires protobuf<3.20,>=3.9.2, but you have protobuf 4.22.1 which is incompatible.\n",
            "tensorboard 2.9.0 requires google-auth-oauthlib<0.5,>=0.4.1, but you have google-auth-oauthlib 1.0.0 which is incompatible.\n",
            "streamlit 1.12.0 requires protobuf<4,>=3.12, but you have protobuf 4.22.1 which is incompatible.\n",
            "pyspotlight 0.6.5.2 requires requests==1.2.3, but you have requests 2.28.2 which is incompatible.\u001b[0m\u001b[31m\n",
            "\u001b[0mSuccessfully installed db-dtypes-1.0.5 google-api-core-2.11.0 google-auth-2.16.2 google-auth-oauthlib-1.0.0 google-cloud-bigquery-3.7.0 google-cloud-bigquery-storage-2.19.0 google-cloud-core-2.3.2 google-crc32c-1.5.0 google-resumable-media-2.4.1 googleapis-common-protos-1.58.0 grpcio-1.51.3 grpcio-status-1.51.3 pandas-gbq-0.19.1 proto-plus-1.22.2 protobuf-4.22.1 pydata-google-auth-1.7.0 requests-2.28.2\n"
          ]
        }
      ],
      "source": [
        "!pip install pandas-gbq"
      ]
    },
    {
      "cell_type": "code",
      "execution_count": 4,
      "metadata": {
        "id": "M32ep4JNwi0T"
      },
      "outputs": [],
      "source": [
        "import pandas as pd\n",
        "from sklearn.preprocessing import LabelEncoder\n",
        "import seaborn as sns\n",
        "import warnings\n",
        "import matplotlib.pyplot as plt\n",
        "from sklearn.metrics import mean_absolute_error\n",
        "from sklearn.metrics import mean_squared_error\n",
        "import os\n",
        "import numpy as np\n",
        "from sacred import Experiment\n",
        "from sacred.observers import FileStorageObserver\n",
        "from xgboost import XGBRegressor\n",
        "import json\n",
        "\n",
        "plt.style.use('ggplot')\n",
        "warnings.filterwarnings('ignore')\n",
        "%config InlineBackend.figure_format = 'retina'\n",
        "\n",
        "PROJECT_ID='nyctaxi-demand-forecast'"
      ]
    },
    {
      "cell_type": "code",
      "execution_count": 5,
      "metadata": {
        "id": "hpD3doLmwi0U"
      },
      "outputs": [],
      "source": [
        "ex = Experiment('nyc-demand-prediction', interactive=True)\n",
        "\n",
        "# if experiment_dir doesn't exist, create a folder and save as FileStorageObserver\n",
        "experiment_dir = os.path.join('./', 'experiments')\n",
        "if not os.path.isdir(experiment_dir): \n",
        "    os.makedirs(experiment_dir)\n",
        "ex.observers.append(FileStorageObserver.create(experiment_dir))"
      ]
    },
    {
      "cell_type": "markdown",
      "metadata": {
        "id": "hQYb-K8Pwi0V"
      },
      "source": [
        "### Pre-Processing"
      ]
    },
    {
      "cell_type": "code",
      "execution_count": 8,
      "metadata": {
        "colab": {
          "base_uri": "https://localhost:8080/"
        },
        "id": "b1sexFA7wi0V",
        "outputId": "09a31a74-f4e9-4a14-aa80-23f0c58de2ec"
      },
      "outputs": [
        {
          "name": "stdout",
          "output_type": "stream",
          "text": [
            "Please visit this URL to authorize this application: https://accounts.google.com/o/oauth2/auth?response_type=code&client_id=725825577420-unm2gnkiprugilg743tkbig250f4sfsj.apps.googleusercontent.com&redirect_uri=http%3A%2F%2Flocalhost%3A8080%2F&scope=https%3A%2F%2Fwww.googleapis.com%2Fauth%2Fbigquery&state=vVKXOKI2dWB5EmNoJSm5kkar8wEOAf&access_type=offline\n",
            "CPU times: user 1.45 s, sys: 297 ms, total: 1.75 s\n",
            "Wall time: 32.4 s\n"
          ]
        }
      ],
      "source": [
        "%%time\n",
        "base_query = \"\"\"\n",
        "WITH base_data AS \n",
        "(\n",
        "  SELECT nyc_taxi.*, gis.* EXCEPT (zip_code_geom)\n",
        "  FROM (\n",
        "    SELECT *\n",
        "    FROM `bigquery-public-data.new_york.tlc_yellow_trips_2015`\n",
        "    WHERE \n",
        "        EXTRACT(MONTH from pickup_datetime) = 1\n",
        "        and pickup_latitude  <= 90 and pickup_latitude >= -90\n",
        "    ) AS nyc_taxi\n",
        "  JOIN (\n",
        "    SELECT zip_code, state_code, state_name, city, county, zip_code_geom\n",
        "    FROM `bigquery-public-data.geo_us_boundaries.zip_codes`\n",
        "    WHERE state_code='NY'\n",
        "    ) AS gis \n",
        "  ON ST_CONTAINS(zip_code_geom, st_geogpoint(pickup_longitude, pickup_latitude))\n",
        ")\n",
        "\n",
        "SELECT \n",
        "    zip_code,\n",
        "    DATETIME_TRUNC(pickup_datetime, hour) as pickup_hour,\n",
        "    EXTRACT(MONTH FROM pickup_datetime) AS month,\n",
        "    EXTRACT(DAY FROM pickup_datetime) AS day,\n",
        "    CAST(format_datetime('%u', pickup_datetime) AS INT64) -1 AS weekday,\n",
        "    EXTRACT(HOUR FROM pickup_datetime) AS hour,\n",
        "    CASE WHEN CAST(FORMAT_DATETIME('%u', pickup_datetime) AS INT64) IN (6, 7) THEN 1 ELSE 0 END AS is_weekend,\n",
        "    COUNT(*) AS cnt\n",
        "FROM base_data \n",
        "GROUP BY zip_code, pickup_hour, month, day, weekday, hour, is_weekend\n",
        "ORDER BY pickup_hour\n",
        "\"\"\"\n",
        "\n",
        "base_df = pd.read_gbq(query=base_query, dialect='standard', project_id=PROJECT_ID)"
      ]
    },
    {
      "cell_type": "markdown",
      "metadata": {
        "id": "k_LL-Psewi0X"
      },
      "source": [
        "### Data Preprocessing\n",
        "- Label Encoding instead of One Hot Encoding"
      ]
    },
    {
      "cell_type": "code",
      "execution_count": 26,
      "metadata": {
        "id": "m4ajlbmawi0X"
      },
      "outputs": [],
      "source": [
        "le = LabelEncoder()\n",
        "base_df['zip_code_le'] = le.fit_transform(base_df['zip_code'])"
      ]
    },
    {
      "cell_type": "code",
      "execution_count": 10,
      "metadata": {
        "id": "uWkPQQJewi0Y"
      },
      "outputs": [],
      "source": [
        "def split_train_and_test(df, date):\n",
        "    \"\"\"\n",
        "    Divide by train_df, test_df functions on a dataframe\n",
        "    \n",
        "    df : time series dataframe\n",
        "    date : reference point date\n",
        "    \"\"\"\n",
        "    train_df = df[df['pickup_hour'] < date]\n",
        "    test_df = df[df['pickup_hour'] >= date]\n",
        "    return train_df, test_df"
      ]
    },
    {
      "cell_type": "markdown",
      "metadata": {
        "id": "c1-ML21vwi0Y"
      },
      "source": [
        "### Split Train / Test"
      ]
    },
    {
      "cell_type": "code",
      "execution_count": 31,
      "metadata": {
        "id": "g3SpFF6ewi0Y"
      },
      "outputs": [],
      "source": [
        "train_df, test_df = split_train_and_test(base_df, '2015-01-24')"
      ]
    },
    {
      "cell_type": "code",
      "execution_count": 32,
      "metadata": {
        "colab": {
          "base_uri": "https://localhost:8080/",
          "height": 206
        },
        "id": "qpwT9CFuwi0Z",
        "outputId": "a135734c-7d66-40e9-b417-8bf39cae1143"
      },
      "outputs": [
        {
          "data": {
            "text/html": [
              "<div>\n",
              "<style scoped>\n",
              "    .dataframe tbody tr th:only-of-type {\n",
              "        vertical-align: middle;\n",
              "    }\n",
              "\n",
              "    .dataframe tbody tr th {\n",
              "        vertical-align: top;\n",
              "    }\n",
              "\n",
              "    .dataframe thead th {\n",
              "        text-align: right;\n",
              "    }\n",
              "</style>\n",
              "<table border=\"1\" class=\"dataframe\">\n",
              "  <thead>\n",
              "    <tr style=\"text-align: right;\">\n",
              "      <th></th>\n",
              "      <th>zip_code</th>\n",
              "      <th>pickup_hour</th>\n",
              "      <th>month</th>\n",
              "      <th>day</th>\n",
              "      <th>weekday</th>\n",
              "      <th>hour</th>\n",
              "      <th>is_weekend</th>\n",
              "      <th>cnt</th>\n",
              "      <th>zip_code_le</th>\n",
              "    </tr>\n",
              "  </thead>\n",
              "  <tbody>\n",
              "    <tr>\n",
              "      <th>65113</th>\n",
              "      <td>11106</td>\n",
              "      <td>2015-01-23 23:00:00+00:00</td>\n",
              "      <td>1</td>\n",
              "      <td>23</td>\n",
              "      <td>4</td>\n",
              "      <td>23</td>\n",
              "      <td>0</td>\n",
              "      <td>34</td>\n",
              "      <td>189</td>\n",
              "    </tr>\n",
              "    <tr>\n",
              "      <th>65114</th>\n",
              "      <td>10003</td>\n",
              "      <td>2015-01-23 23:00:00+00:00</td>\n",
              "      <td>1</td>\n",
              "      <td>23</td>\n",
              "      <td>4</td>\n",
              "      <td>23</td>\n",
              "      <td>0</td>\n",
              "      <td>2310</td>\n",
              "      <td>2</td>\n",
              "    </tr>\n",
              "    <tr>\n",
              "      <th>65115</th>\n",
              "      <td>10454</td>\n",
              "      <td>2015-01-23 23:00:00+00:00</td>\n",
              "      <td>1</td>\n",
              "      <td>23</td>\n",
              "      <td>4</td>\n",
              "      <td>23</td>\n",
              "      <td>0</td>\n",
              "      <td>1</td>\n",
              "      <td>83</td>\n",
              "    </tr>\n",
              "    <tr>\n",
              "      <th>65116</th>\n",
              "      <td>11435</td>\n",
              "      <td>2015-01-23 23:00:00+00:00</td>\n",
              "      <td>1</td>\n",
              "      <td>23</td>\n",
              "      <td>4</td>\n",
              "      <td>23</td>\n",
              "      <td>0</td>\n",
              "      <td>2</td>\n",
              "      <td>277</td>\n",
              "    </tr>\n",
              "    <tr>\n",
              "      <th>65117</th>\n",
              "      <td>11208</td>\n",
              "      <td>2015-01-23 23:00:00+00:00</td>\n",
              "      <td>1</td>\n",
              "      <td>23</td>\n",
              "      <td>4</td>\n",
              "      <td>23</td>\n",
              "      <td>0</td>\n",
              "      <td>1</td>\n",
              "      <td>197</td>\n",
              "    </tr>\n",
              "  </tbody>\n",
              "</table>\n",
              "</div>"
            ],
            "text/plain": [
              "      zip_code               pickup_hour  month  day  weekday  hour  \\\n",
              "65113    11106 2015-01-23 23:00:00+00:00      1   23        4    23   \n",
              "65114    10003 2015-01-23 23:00:00+00:00      1   23        4    23   \n",
              "65115    10454 2015-01-23 23:00:00+00:00      1   23        4    23   \n",
              "65116    11435 2015-01-23 23:00:00+00:00      1   23        4    23   \n",
              "65117    11208 2015-01-23 23:00:00+00:00      1   23        4    23   \n",
              "\n",
              "       is_weekend   cnt  zip_code_le  \n",
              "65113           0    34          189  \n",
              "65114           0  2310            2  \n",
              "65115           0     1           83  \n",
              "65116           0     2          277  \n",
              "65117           0     1          197  "
            ]
          },
          "execution_count": 32,
          "metadata": {},
          "output_type": "execute_result"
        }
      ],
      "source": [
        "train_df.tail()"
      ]
    },
    {
      "cell_type": "markdown",
      "metadata": {
        "id": "jwcqmo5rwi0Z"
      },
      "source": [
        "- Delete unused columns"
      ]
    },
    {
      "cell_type": "code",
      "execution_count": 33,
      "metadata": {
        "id": "sD3eXfkPwi0Z"
      },
      "outputs": [],
      "source": [
        "del train_df['zip_code']\n",
        "del train_df['pickup_hour']\n",
        "del test_df['zip_code']\n",
        "del test_df['pickup_hour']"
      ]
    },
    {
      "cell_type": "code",
      "execution_count": 34,
      "metadata": {
        "colab": {
          "base_uri": "https://localhost:8080/",
          "height": 175
        },
        "id": "IoTaVM7wwi0Z",
        "outputId": "68be6556-4b4d-4596-cd1e-85515a893aab"
      },
      "outputs": [
        {
          "data": {
            "text/html": [
              "<div>\n",
              "<style scoped>\n",
              "    .dataframe tbody tr th:only-of-type {\n",
              "        vertical-align: middle;\n",
              "    }\n",
              "\n",
              "    .dataframe tbody tr th {\n",
              "        vertical-align: top;\n",
              "    }\n",
              "\n",
              "    .dataframe thead th {\n",
              "        text-align: right;\n",
              "    }\n",
              "</style>\n",
              "<table border=\"1\" class=\"dataframe\">\n",
              "  <thead>\n",
              "    <tr style=\"text-align: right;\">\n",
              "      <th></th>\n",
              "      <th>month</th>\n",
              "      <th>day</th>\n",
              "      <th>weekday</th>\n",
              "      <th>hour</th>\n",
              "      <th>is_weekend</th>\n",
              "      <th>cnt</th>\n",
              "      <th>zip_code_le</th>\n",
              "    </tr>\n",
              "  </thead>\n",
              "  <tbody>\n",
              "    <tr>\n",
              "      <th>0</th>\n",
              "      <td>1</td>\n",
              "      <td>1</td>\n",
              "      <td>3</td>\n",
              "      <td>0</td>\n",
              "      <td>0</td>\n",
              "      <td>169</td>\n",
              "      <td>191</td>\n",
              "    </tr>\n",
              "    <tr>\n",
              "      <th>1</th>\n",
              "      <td>1</td>\n",
              "      <td>1</td>\n",
              "      <td>3</td>\n",
              "      <td>0</td>\n",
              "      <td>0</td>\n",
              "      <td>10</td>\n",
              "      <td>58</td>\n",
              "    </tr>\n",
              "    <tr>\n",
              "      <th>2</th>\n",
              "      <td>1</td>\n",
              "      <td>1</td>\n",
              "      <td>3</td>\n",
              "      <td>0</td>\n",
              "      <td>0</td>\n",
              "      <td>120</td>\n",
              "      <td>23</td>\n",
              "    </tr>\n",
              "    <tr>\n",
              "      <th>3</th>\n",
              "      <td>1</td>\n",
              "      <td>1</td>\n",
              "      <td>3</td>\n",
              "      <td>0</td>\n",
              "      <td>0</td>\n",
              "      <td>6</td>\n",
              "      <td>92</td>\n",
              "    </tr>\n",
              "  </tbody>\n",
              "</table>\n",
              "</div>"
            ],
            "text/plain": [
              "   month  day  weekday  hour  is_weekend  cnt  zip_code_le\n",
              "0      1    1        3     0           0  169          191\n",
              "1      1    1        3     0           0   10           58\n",
              "2      1    1        3     0           0  120           23\n",
              "3      1    1        3     0           0    6           92"
            ]
          },
          "execution_count": 34,
          "metadata": {},
          "output_type": "execute_result"
        }
      ],
      "source": [
        "train_df.head(4)"
      ]
    },
    {
      "cell_type": "code",
      "execution_count": 35,
      "metadata": {
        "id": "rGgevg1Ywi0Z"
      },
      "outputs": [],
      "source": [
        "y_train_raw = train_df.pop('cnt')\n",
        "y_test_raw = test_df.pop('cnt')"
      ]
    },
    {
      "cell_type": "code",
      "execution_count": 36,
      "metadata": {
        "id": "84IEBTtxwi0a"
      },
      "outputs": [],
      "source": [
        "x_train = train_df.copy()\n",
        "x_test = test_df.copy()"
      ]
    },
    {
      "cell_type": "markdown",
      "metadata": {
        "id": "zyad4P-Gwi0a"
      },
      "source": [
        "### Modeling"
      ]
    },
    {
      "cell_type": "code",
      "execution_count": 37,
      "metadata": {
        "id": "WBUkRDKzwi0a"
      },
      "outputs": [],
      "source": [
        "def evaluation(y_true, y_pred): \n",
        "    y_true, y_pred = np.array(y_true), np.array(y_pred)\n",
        "    mape = np.mean(np.abs((y_true - y_pred) / y_true)) * 100\n",
        "    mae = mean_absolute_error(y_true, y_pred)\n",
        "    mse = mean_squared_error(y_true, y_pred)\n",
        "    score = pd.DataFrame([mape, mae, mse], index=['mape', 'mae', 'mse'], columns=['score']).T\n",
        "    return score"
      ]
    },
    {
      "cell_type": "code",
      "execution_count": 38,
      "metadata": {
        "id": "CMONdCatwi0a"
      },
      "outputs": [],
      "source": [
        "@ex.config\n",
        "def config():\n",
        "    max_depth=5\n",
        "    learning_rate=0.1\n",
        "    n_estimators=100\n",
        "    n_jobs=-1"
      ]
    },
    {
      "cell_type": "code",
      "execution_count": 39,
      "metadata": {
        "id": "aqd9Huufwi0a"
      },
      "outputs": [],
      "source": [
        "@ex.capture\n",
        "def get_model(max_depth, learning_rate, n_estimators, n_jobs):\n",
        "    return XGBRegressor(max_depth=max_depth, learning_rate=learning_rate, n_estimators=n_estimators, n_jobs=n_jobs)"
      ]
    },
    {
      "cell_type": "code",
      "execution_count": 40,
      "metadata": {
        "id": "O9v6jML7wi0a"
      },
      "outputs": [],
      "source": [
        "@ex.main\n",
        "def run(_log, _run):\n",
        "    global xgb_reg, xgb_pred\n",
        "    xgb_reg = get_model()\n",
        "    xgb_reg.fit(x_train, y_train_raw)\n",
        "    xgb_pred = xgb_reg.predict(x_test)\n",
        "    score = evaluation(y_test_raw, xgb_pred)\n",
        "    \n",
        "    _run.log_scalar('model_name', xgb_reg.__class__.__name__)    \n",
        "    _run.log_scalar('metrics', score)\n",
        "    \n",
        "    return score.to_dict()\n"
      ]
    },
    {
      "cell_type": "code",
      "execution_count": 41,
      "metadata": {
        "id": "ntrqdX6Mwi0b"
      },
      "outputs": [
        {
          "name": "stderr",
          "output_type": "stream",
          "text": [
            "INFO - nyc-demand-prediction - Running command 'run'\n",
            "INFO - nyc-demand-prediction - Started run with ID \"4\"\n",
            "INFO - nyc-demand-prediction - Result: {'mape': {'score': 538.5201561766138}, 'mae': {'score': 57.67873599873819}, 'mse': {'score': 16512.3302373418}}\n",
            "INFO - nyc-demand-prediction - Completed after 0:00:01\n"
          ]
        }
      ],
      "source": [
        "experiment_result = ex.run()"
      ]
    },
    {
      "cell_type": "code",
      "execution_count": 42,
      "metadata": {
        "colab": {
          "base_uri": "https://localhost:8080/"
        },
        "id": "oY5CrtgOwi0b",
        "outputId": "7f1e1591-d515-45e9-a570-94ca8fe2884d"
      },
      "outputs": [
        {
          "data": {
            "text/plain": [
              "{'max_depth': 5,\n",
              " 'learning_rate': 0.1,\n",
              " 'n_estimators': 100,\n",
              " 'n_jobs': -1,\n",
              " 'seed': 860999119}"
            ]
          },
          "execution_count": 42,
          "metadata": {},
          "output_type": "execute_result"
        }
      ],
      "source": [
        "experiment_result.config"
      ]
    },
    {
      "cell_type": "code",
      "execution_count": 54,
      "metadata": {
        "id": "jUfeS96ewi0b"
      },
      "outputs": [],
      "source": [
        "def parsing_output(ex_id):\n",
        "    with open(f'./experiments/{ex_id}/metrics.json') as json_file:\n",
        "        json_data = json.load(json_file)\n",
        "    with open(f'./experiments/{ex_id}/config.json') as config_file:\n",
        "        config_data = json.load(config_file)\n",
        "    \n",
        "    output_df = pd.DataFrame(json_data['model_name']['values'], columns=['model_name'], index=['score'])\n",
        "    output_df['experiment_num'] = ex_id\n",
        "    output_df['config'] = str(config_data)\n",
        "    metric_df = pd.DataFrame(json_data['metrics']['values'][0]['values'])\n",
        "    \n",
        "    output_df = pd.concat([output_df, metric_df], axis=1)\n",
        "    output_df = output_df.round(2)\n",
        "    return output_df"
      ]
    },
    {
      "cell_type": "code",
      "execution_count": 59,
      "metadata": {},
      "outputs": [],
      "source": [
        "def parsing_output(ex_id):\n",
        "    with open(f'./experiments/{ex_id}/run.json') as json_file:\n",
        "        json_data = json.load(json_file)\n",
        "    output = pd.DataFrame(json_data['result'])\n",
        "    return output"
      ]
    },
    {
      "cell_type": "code",
      "execution_count": 60,
      "metadata": {
        "colab": {
          "base_uri": "https://localhost:8080/",
          "height": 336
        },
        "id": "tvTxno8dwi0b",
        "outputId": "095237b6-7c71-480c-aa16-056f462edefa"
      },
      "outputs": [
        {
          "data": {
            "text/html": [
              "<div>\n",
              "<style scoped>\n",
              "    .dataframe tbody tr th:only-of-type {\n",
              "        vertical-align: middle;\n",
              "    }\n",
              "\n",
              "    .dataframe tbody tr th {\n",
              "        vertical-align: top;\n",
              "    }\n",
              "\n",
              "    .dataframe thead th {\n",
              "        text-align: right;\n",
              "    }\n",
              "</style>\n",
              "<table border=\"1\" class=\"dataframe\">\n",
              "  <thead>\n",
              "    <tr style=\"text-align: right;\">\n",
              "      <th></th>\n",
              "      <th>mae</th>\n",
              "      <th>mape</th>\n",
              "      <th>mse</th>\n",
              "    </tr>\n",
              "  </thead>\n",
              "  <tbody>\n",
              "    <tr>\n",
              "      <th>score</th>\n",
              "      <td>57.678736</td>\n",
              "      <td>538.520156</td>\n",
              "      <td>16512.330237</td>\n",
              "    </tr>\n",
              "  </tbody>\n",
              "</table>\n",
              "</div>"
            ],
            "text/plain": [
              "             mae        mape           mse\n",
              "score  57.678736  538.520156  16512.330237"
            ]
          },
          "execution_count": 60,
          "metadata": {},
          "output_type": "execute_result"
        }
      ],
      "source": [
        "parsing_output(4)"
      ]
    },
    {
      "cell_type": "code",
      "execution_count": 61,
      "metadata": {
        "id": "Oleq3TiYwi0b",
        "outputId": "a868b8ef-5c2f-4b06-de71-d4637acabf21"
      },
      "outputs": [
        {
          "data": {
            "text/plain": [
              "<Axes: >"
            ]
          },
          "execution_count": 61,
          "metadata": {},
          "output_type": "execute_result"
        },
        {
          "data": {
            "image/png": "[encoded data removed]",
            "text/plain": [
              "<Figure size 640x480 with 1 Axes>"
            ]
          },
          "metadata": {
            "image/png": {
              "height": 413,
              "width": 605
            }
          },
          "output_type": "display_data"
        }
      ],
      "source": [
        "feat_importances = pd.Series(xgb_reg.feature_importances_, index=x_train.columns)\n",
        "feat_importances.nlargest(15).plot(kind='barh')"
      ]
    }
  ],
  "metadata": {
    "colab": {
      "provenance": []
    },
    "kernelspec": {
      "display_name": "tensorlow",
      "language": "python",
      "name": "python3"
    },
    "language_info": {
      "codemirror_mode": {
        "name": "ipython",
        "version": 3
      },
      "file_extension": ".py",
      "mimetype": "text/x-python",
      "name": "python",
      "nbconvert_exporter": "python",
      "pygments_lexer": "ipython3",
      "version": "3.9.13"
    },
    "varInspector": {
      "cols": {
        "lenName": 16,
        "lenType": 16,
        "lenVar": 40
      },
      "kernels_config": {
        "python": {
          "delete_cmd_postfix": "",
          "delete_cmd_prefix": "del ",
          "library": "var_list.py",
          "varRefreshCmd": "print(var_dic_list())"
        },
        "r": {
          "delete_cmd_postfix": ") ",
          "delete_cmd_prefix": "rm(",
          "library": "var_list.r",
          "varRefreshCmd": "cat(var_dic_list()) "
        }
      },
      "types_to_exclude": [
        "module",
        "function",
        "builtin_function_or_method",
        "instance",
        "_Feature"
      ],
      "window_display": false
    },
    "vscode": {
      "interpreter": {
        "hash": "df91ba904fc0ddff678163920c6ef2ad7c34ea545b659526d6231a5a98fa2aac"
      }
    }
  },
  "nbformat": 4,
  "nbformat_minor": 0
}
